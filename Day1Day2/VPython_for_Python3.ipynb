{
 "cells": [
  {
   "cell_type": "code",
   "execution_count": 1,
   "metadata": {},
   "outputs": [
    {
     "name": "stdout",
     "output_type": "stream",
     "text": [
      "Requirement already satisfied: vpython in /Users/jiangsir/anaconda/lib/python3.5/site-packages\n",
      "Requirement already satisfied: autobahn in /Users/jiangsir/anaconda/lib/python3.5/site-packages (from vpython)\n",
      "Requirement already satisfied: jupyter in /Users/jiangsir/anaconda/lib/python3.5/site-packages (from vpython)\n",
      "Requirement already satisfied: vpnotebook in /Users/jiangsir/anaconda/lib/python3.5/site-packages (from vpython)\n",
      "Requirement already satisfied: numpy in /Users/jiangsir/anaconda/lib/python3.5/site-packages (from vpython)\n",
      "Requirement already satisfied: txaio>=2.7.0 in /Users/jiangsir/anaconda/lib/python3.5/site-packages (from autobahn->vpython)\n",
      "Requirement already satisfied: six>=1.10.0 in /Users/jiangsir/anaconda/lib/python3.5/site-packages (from autobahn->vpython)\n"
     ]
    }
   ],
   "source": [
    "!pip install vpython"
   ]
  },
  {
   "cell_type": "markdown",
   "metadata": {},
   "source": [
    "## Lesson2 一維等速運動\n",
    "http://drweb.nksh.tp.edu.tw/student/lesson/F02/\n"
   ]
  },
  {
   "cell_type": "code",
   "execution_count": 2,
   "metadata": {},
   "outputs": [
    {
     "data": {
      "application/javascript": [
       "require.undef(\"nbextensions/vpython_libraries/glow.min\");"
      ],
      "text/plain": [
       "<IPython.core.display.Javascript object>"
      ]
     },
     "metadata": {},
     "output_type": "display_data"
    },
    {
     "data": {
      "application/javascript": [
       "require.undef(\"nbextensions/vpython_libraries/glowcomm\");"
      ],
      "text/plain": [
       "<IPython.core.display.Javascript object>"
      ]
     },
     "metadata": {},
     "output_type": "display_data"
    },
    {
     "data": {
      "application/javascript": [
       "require.undef(\"nbextensions/vpython_libraries/jquery-ui.custom.min\");"
      ],
      "text/plain": [
       "<IPython.core.display.Javascript object>"
      ]
     },
     "metadata": {},
     "output_type": "display_data"
    },
    {
     "data": {
      "application/javascript": [
       "require([\"nbextensions/vpython_libraries/glow.min\"], function(){console.log(\"GLOW LOADED\");})"
      ],
      "text/plain": [
       "<IPython.core.display.Javascript object>"
      ]
     },
     "metadata": {},
     "output_type": "display_data"
    },
    {
     "data": {
      "application/javascript": [
       "require([\"nbextensions/vpython_libraries/glowcomm\"], function(){console.log(\"GLOWCOMM LOADED\");})"
      ],
      "text/plain": [
       "<IPython.core.display.Javascript object>"
      ]
     },
     "metadata": {},
     "output_type": "display_data"
    },
    {
     "data": {
      "application/javascript": [
       "require([\"nbextensions/vpython_libraries/jquery-ui.custom.min\"], function(){console.log(\"JQUERY LOADED\");})"
      ],
      "text/plain": [
       "<IPython.core.display.Javascript object>"
      ]
     },
     "metadata": {},
     "output_type": "display_data"
    },
    {
     "data": {
      "text/html": [
       "<div id=\"glowscript\" class=\"glowscript\"></div>"
      ],
      "text/plain": [
       "<IPython.core.display.HTML object>"
      ]
     },
     "metadata": {},
     "output_type": "display_data"
    },
    {
     "data": {
      "application/javascript": [
       "window.__context = { glowscript_container: $(\"#glowscript\").removeAttr(\"id\")}"
      ],
      "text/plain": [
       "<IPython.core.display.Javascript object>"
      ]
     },
     "metadata": {},
     "output_type": "display_data"
    },
    {
     "name": "stdout",
     "output_type": "stream",
     "text": [
      "5.000000000000004\n"
     ]
    }
   ],
   "source": [
    "# 匯入視覺化套件\n",
    "from vpython import *\n",
    "\n",
    "#產生一個寬400像素，高400像素的3度空間以進行繪圖\n",
    "scene = display(width=400, height=400,center=(0,0.06,0))\n",
    "#產生一個扁長形方塊，當做是地板\n",
    "floor = box(pos=vector(0,0,0), length=0.3, height=0.005, width=0.1)\n",
    "#產生一個正立方物體\n",
    "cube = box(pos=vector(0, 0.05/2, 0), length=0.05, height=0.05, width=0.05)\n",
    "\n",
    "#----------\n",
    "# 參數設定\n",
    "#----------\n",
    "\n",
    "#速度\n",
    "v = 0.02    #物體速度 = 0.02 (公尺/秒)\n",
    "#時間間隔\n",
    "dt = 0.001  #畫面更新的時間間隔，單位為秒\n",
    "#經過時間\n",
    "t = 0       #模擬所經過的時間，單位為秒，初始值為0\n",
    "\n",
    "#-------------\n",
    "#一維等速運動\n",
    "#-------------\n",
    "while cube.pos.x < 0.1:\n",
    "    rate(1000)\n",
    "    # 位置 = 位置 + 速度 * 時間\n",
    "    cube.pos.x = cube.pos.x + v * dt\n",
    "    t = t + dt\n",
    "\n",
    "print(t)"
   ]
  },
  {
   "cell_type": "markdown",
   "metadata": {},
   "source": [
    "## Lesson 4 拋物線\n",
    "## http://drweb.nksh.tp.edu.tw/student/lesson/F04/"
   ]
  },
  {
   "cell_type": "code",
   "execution_count": 1,
   "metadata": {},
   "outputs": [
    {
     "data": {
      "application/javascript": [
       "require.undef(\"nbextensions/vpython_libraries/glow.min\");"
      ],
      "text/plain": [
       "<IPython.core.display.Javascript object>"
      ]
     },
     "metadata": {},
     "output_type": "display_data"
    },
    {
     "data": {
      "application/javascript": [
       "require.undef(\"nbextensions/vpython_libraries/glowcomm\");"
      ],
      "text/plain": [
       "<IPython.core.display.Javascript object>"
      ]
     },
     "metadata": {},
     "output_type": "display_data"
    },
    {
     "data": {
      "application/javascript": [
       "require.undef(\"nbextensions/vpython_libraries/jquery-ui.custom.min\");"
      ],
      "text/plain": [
       "<IPython.core.display.Javascript object>"
      ]
     },
     "metadata": {},
     "output_type": "display_data"
    },
    {
     "data": {
      "application/javascript": [
       "require([\"nbextensions/vpython_libraries/glow.min\"], function(){console.log(\"GLOW LOADED\");})"
      ],
      "text/plain": [
       "<IPython.core.display.Javascript object>"
      ]
     },
     "metadata": {},
     "output_type": "display_data"
    },
    {
     "data": {
      "application/javascript": [
       "require([\"nbextensions/vpython_libraries/glowcomm\"], function(){console.log(\"GLOWCOMM LOADED\");})"
      ],
      "text/plain": [
       "<IPython.core.display.Javascript object>"
      ]
     },
     "metadata": {},
     "output_type": "display_data"
    },
    {
     "data": {
      "application/javascript": [
       "require([\"nbextensions/vpython_libraries/jquery-ui.custom.min\"], function(){console.log(\"JQUERY LOADED\");})"
      ],
      "text/plain": [
       "<IPython.core.display.Javascript object>"
      ]
     },
     "metadata": {},
     "output_type": "display_data"
    },
    {
     "data": {
      "text/html": [
       "<div id=\"glowscript\" class=\"glowscript\"></div>"
      ],
      "text/plain": [
       "<IPython.core.display.HTML object>"
      ]
     },
     "metadata": {},
     "output_type": "display_data"
    },
    {
     "data": {
      "application/javascript": [
       "window.__context = { glowscript_container: $(\"#glowscript\").removeAttr(\"id\")}"
      ],
      "text/plain": [
       "<IPython.core.display.Javascript object>"
      ]
     },
     "metadata": {},
     "output_type": "display_data"
    },
    {
     "name": "stdout",
     "output_type": "stream",
     "text": [
      "vy= -3.843545608876115 ball.pos.y= 0.19673651971901307\n"
     ]
    }
   ],
   "source": [
    "# 匯入視覺化套件\n",
    "from vpython import *\n",
    "\n",
    "# 1. 參數設定\n",
    "#加速度\n",
    "a = -9.8    #加速度值,在 x、z 方向為 0,在 y 方向為 g=-9.8 公尺/秒^2\n",
    "#速度\n",
    "vx = 5      #球的 x 方向速度(公尺/秒)\n",
    "vy = 0      #球的 y 方向速度(公尺/秒)\n",
    "#高度\n",
    "h = 10.0    #球的初始高度，單位為公尺\n",
    "#時間間隔\n",
    "dt = 0.001  #畫面更新的時間間隔,單位為秒\n",
    "#經過時間\n",
    "t = 0       #模擬所經過的時間 ,單位為秒,初始值為0\n",
    "\n",
    "# 2. 畫面設定\n",
    "#畫布\n",
    "scene = display(center = vector(0, h/2, 0), background=vector(0.5,0.6, 0))\n",
    "#參考地板\n",
    "floor = box(pos=vector(0,0,0), length=15, height=0.01, width=5)\n",
    "#牆\n",
    "wall_right = box(pos=vector(floor.length/2,h/2,0), length=0.01, height=h, width=5)\n",
    "wall_left = box(pos=vector(-floor.length/2,h/2,0), length=0.01, height=h, width=5)\n",
    "\n",
    "#球\n",
    "ball = sphere(pos =vector(0, h , 0), radius=0.2, color=color.blue, make_trail= True)\n",
    "\n",
    "# 3. 描述物體的運動\n",
    "\n",
    "touch = 20\n",
    "while touch>0:\n",
    "    rate(1000)\n",
    "    # 速度 = 速度 + 加速度 * 時間間隔\n",
    "    vy = vy + a * dt\n",
    "    # 位置 = 位置 + 速度 * 時間間隔\n",
    "    ball.pos.x = ball.pos.x + vx * dt\n",
    "    ball.pos.y = ball.pos.y + vy * dt\n",
    "    # 判斷球是否碰到地面\n",
    "    if ball.pos.y <= 0.2 and vy < 0:\n",
    "        print('vy=', vy, 'ball.pos.y=', ball.pos.y)\n",
    "        vy = abs(vy) * 0.9\n",
    "        touch = touch - 1\n",
    "\n",
    "    if abs(ball.pos.x) >= floor.length/2:\n",
    "        vx = -vx\n",
    "        touch = touch - 1\n"
   ]
  },
  {
   "cell_type": "markdown",
   "metadata": {},
   "source": [
    "## Lesson 6 速度視覺化\n",
    "## http://drweb.nksh.tp.edu.tw/student/lesson/F06/\n"
   ]
  },
  {
   "cell_type": "code",
   "execution_count": 1,
   "metadata": {},
   "outputs": [
    {
     "data": {
      "application/javascript": [
       "require.undef(\"nbextensions/vpython_libraries/glow.min\");"
      ],
      "text/plain": [
       "<IPython.core.display.Javascript object>"
      ]
     },
     "metadata": {},
     "output_type": "display_data"
    },
    {
     "data": {
      "application/javascript": [
       "require.undef(\"nbextensions/vpython_libraries/glowcomm\");"
      ],
      "text/plain": [
       "<IPython.core.display.Javascript object>"
      ]
     },
     "metadata": {},
     "output_type": "display_data"
    },
    {
     "data": {
      "application/javascript": [
       "require.undef(\"nbextensions/vpython_libraries/jquery-ui.custom.min\");"
      ],
      "text/plain": [
       "<IPython.core.display.Javascript object>"
      ]
     },
     "metadata": {},
     "output_type": "display_data"
    },
    {
     "data": {
      "application/javascript": [
       "require([\"nbextensions/vpython_libraries/glow.min\"], function(){console.log(\"GLOW LOADED\");})"
      ],
      "text/plain": [
       "<IPython.core.display.Javascript object>"
      ]
     },
     "metadata": {},
     "output_type": "display_data"
    },
    {
     "data": {
      "application/javascript": [
       "require([\"nbextensions/vpython_libraries/glowcomm\"], function(){console.log(\"GLOWCOMM LOADED\");})"
      ],
      "text/plain": [
       "<IPython.core.display.Javascript object>"
      ]
     },
     "metadata": {},
     "output_type": "display_data"
    },
    {
     "data": {
      "application/javascript": [
       "require([\"nbextensions/vpython_libraries/jquery-ui.custom.min\"], function(){console.log(\"JQUERY LOADED\");})"
      ],
      "text/plain": [
       "<IPython.core.display.Javascript object>"
      ]
     },
     "metadata": {},
     "output_type": "display_data"
    },
    {
     "data": {
      "text/html": [
       "<div id=\"glowscript\" class=\"glowscript\"></div>"
      ],
      "text/plain": [
       "<IPython.core.display.HTML object>"
      ]
     },
     "metadata": {},
     "output_type": "display_data"
    },
    {
     "data": {
      "application/javascript": [
       "window.__context = { glowscript_container: $(\"#glowscript\").removeAttr(\"id\")}"
      ],
      "text/plain": [
       "<IPython.core.display.Javascript object>"
      ]
     },
     "metadata": {},
     "output_type": "display_data"
    },
    {
     "name": "stdout",
     "output_type": "stream",
     "text": [
      "5.000000000000004\n"
     ]
    }
   ],
   "source": [
    "# 匯入視覺化套件\n",
    "from vpython import *\n",
    "\n",
    "# 1. 參數設定\n",
    "#球的半徑\n",
    "size = 0.2  #球的半徑，單位為公尺\n",
    "#加速度\n",
    "g = vector(0,-9.8,0)    #加速度值,在 x、z 方向為 0,在 y 方向為重力加速度 -9.8 公尺/秒^2\n",
    "#時間間隔\n",
    "dt = 0.001  #畫面更新的時間間隔,單位為秒\n",
    "#經過時間\n",
    "t = 0       #模擬所經過的時間 ,單位為秒,初始值為0\n",
    "\n",
    "# 2. 畫面設定\n",
    "#畫布\n",
    "scene = display(center =vector(15, 5, 0), background=(0.5,0.6, 0.5))\n",
    "#參考地板\n",
    "floor = box(pos=vector(15,-0.05,0), length=30, height=0.1, width=5)\n",
    "#球\n",
    "ball = sphere(pos=vector(0, 0, 0), radius=size, color=color.blue, make_trail= True)\n",
    "\n",
    "\n",
    "# 3.初始條件\n",
    "ball.v = vector(5, 10, 0)\n",
    "\n",
    "#速度箭頭\n",
    "v_arrow = arrow(pos = ball.pos, axis=ball.v, shaftwidth=0.1)\n",
    "\n",
    "# 4. 描述物體的運動\n",
    "\n",
    "while t < 5:\n",
    "    rate(1000)\n",
    "    # 速度 = 速度 + 加速度 * 時間間隔\n",
    "    ball.v = ball.v + g * dt\n",
    "    # 位置 = 位置 + 速度 * 時間間隔\n",
    "    ball.pos = ball.pos + ball.v * dt\n",
    "    # 更新速度箭頭資料\n",
    "    v_arrow.pos = ball.pos\n",
    "    v_arrow.axis = ball.v/5x`\n",
    "    # 判斷球是否碰到地面\n",
    "    if ball.pos.y <= size and ball.v.y < 0:\n",
    "        print('ball.v.y=', ball.v.y)\n",
    "        ball.v.y = abs(ball.v.y) * 0.9\n",
    "\n",
    "    #計算時間\n",
    "    t = t + dt\n",
    "print(t)"
   ]
  },
  {
   "cell_type": "markdown",
   "metadata": {},
   "source": [
    "## Lesson 7 等速率圓周運動\n",
    "## http://drweb.nksh.tp.edu.tw/student/lesson/F07/"
   ]
  },
  {
   "cell_type": "code",
   "execution_count": null,
   "metadata": {
    "scrolled": true
   },
   "outputs": [],
   "source": [
    "# 匯入視覺化套件\n",
    "from vpython import *\n",
    "#  1. 畫面設定\n",
    "# 畫布print('ss')\n",
    "scene = display(center=vector(0, 0.3, 0.2), width=1000, height=1000, background=vector(0.5,0.6,0.5))\n",
    "# 桌面\n",
    "table = cylinder(pos=vector(0,-0.03,0), axis=vector(0,-0.01,0), radius=0.7)\n",
    "# 圓心\n",
    "center = cylinder(pos=vector(0, -0.03, 0), axis =vector(0, 0.03, 0), radius = 0.007)\n",
    "# 球\n",
    "ball = sphere(pos=vector(-0.5,0,0), radius=0.03, color=color.blue)\n",
    "\n",
    "#  2. 設定參數、初始值\n",
    "ball.v = vector(0, 0, 0.5)\n",
    "\n",
    "\n",
    "#r = abs(ball.pos)\n",
    "r = 0.5\n",
    "print(\"速度 = \", ball.v.z)\n",
    "print(\"時間週期 = \", 2*pi*r/ abs(ball.v.z))\n",
    "# 時間間隔\n",
    "dt = 0.001\n",
    "\n",
    "#  3. 運動部分\n",
    "while True:\n",
    "    rate(1000)\n",
    "    # 更新球的資料\n",
    "    ## ball.a = - (abs(ball.v.z)**2 / r) * (ball.pos/r)\n",
    "    ball.a = ball.v/50\n",
    "    ball.v += ball.a*dt\n",
    "    #速度箭頭\n",
    "    v_arrow = arrow(pos = ball.pos, axis=ball.v, shaftwidth=0.1)\n",
    "    a_arrow = arrow(pos = ball.pos, axis=ball.a, shaftwidth=0.1)\n",
    "    ball.pos += ball.v*dt\n",
    "    # 更新速度箭頭資料\n",
    "    v_arrow.pos = ball.pos\n",
    "    v_arrow.axis = ball.v/5\n",
    "    #速度箭頭\n",
    "    v_arrow = arrow(pos = ball.pos, axis=ball.v, shaftwidth=0.1)\n",
    "    a_arrow = arrow(pos = ball.pos, axis=ball.a, shaftwidth=0.1)\n"
   ]
  }
 ],
 "metadata": {
  "kernelspec": {
   "display_name": "VPython",
   "language": "python",
   "name": "vpython"
  },
  "language_info": {
   "codemirror_mode": {
    "name": "ipython",
    "version": 3
   },
   "file_extension": ".py",
   "mimetype": "text/x-python",
   "name": "python",
   "nbconvert_exporter": "python",
   "pygments_lexer": "ipython3",
   "version": "3.5.1"
  }
 },
 "nbformat": 4,
 "nbformat_minor": 1
}
