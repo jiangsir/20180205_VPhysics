{
 "cells": [
  {
   "cell_type": "markdown",
   "metadata": {},
   "source": [
    "## 本程式尚未轉換成 Python3 無法直接執行。\n",
    "## Day3 石明豐教授帶專題。行星模擬。太陽、地球、月亮 公轉模擬。"
   ]
  },
  {
   "cell_type": "code",
   "execution_count": null,
   "metadata": {
    "collapsed": true
   },
   "outputs": [],
   "source": [
    "# -*- coding: utf8 -*-\n",
    "# 匯入視覺化套件\n",
    "from visual import *\n",
    "\n",
    "scene = display(width=1000, height=1000, background=(0.5,0.5,0))\n",
    "scene.forward = vector(0, -1, 0)\n",
    "\n",
    "G=6.673E-11\n",
    "\n",
    "def G_force(m1, m2, pos_vector):\n",
    "    return -G * m1 * m2 / mag2(pos_vector) * norm(pos_vector)\n",
    "\n",
    "def G_force2(star1, star2):\n",
    "    return -G * star1.mass * star2.mass / mag2(star2.pos-star1.pos) * norm(star2.pos-star1.pos)\n",
    "    \n",
    "\n",
    "mass = {'earth': 5.97E24, 'moon':7.36E22, 'sun':1.99E30}\n",
    "earth_orbit={'r':1.495E11, 'v':2.9783E4}\n",
    "moon_orbit={'r': 3.84E8, 'v':1.022E3}\n",
    "radius={'earth':6.371E6*10, 'moon':1.317E6*10, 'sun':6.95E8*10}\n",
    "theta = 5.145*pi/180.0\n",
    "\n",
    "\n",
    "earth = sphere(radius = 6.371E6*10, material = materials.earth)\n",
    "earth.pos = vector(earth_orbit['r'], 0, 0)\n",
    "earth.mass = mass['earth']\n",
    "\n",
    "moon = sphere(radius = 1.317E6*10, color= color.red)\n",
    "moon.mass = mass['moon']\n",
    "moon.v = vector(0,0,-moon_orbit['v'])\n",
    "moon.pos = vector(cos(theta) * moon_orbit['r'] + earth_orbit['r'], -sin(theta)*moon_orbit['r'], 0)\n",
    "\n",
    "earth.v = vector(0,0,moon_orbit['v']*moon.mass/earth.mass )\n",
    "\n",
    "sun = sphere(radius = radius['sun'], color= color.orange ,material = materials.emissive)\n",
    "sun.mass = mass['sun']\n",
    "sun.pos = vector(0,0,0)\n",
    "\n",
    "\n",
    "dt = 60.0*60.0\n",
    "\n",
    "v = moon.mass * moon.v/earth.mass\n",
    "earth.v = -v + vector(0,0,earth_orbit['v'])\n",
    "moon.v = moon.v + vector(0,0,earth_orbit['v'])\n",
    "\n",
    "\n",
    "while True:\n",
    "    rate(6*24*10)\n",
    "    moon.a = (G_force2(earth, moon)+G_force2(sun, moon)) / moon.mass\n",
    "    earth.a = (G_force2(moon, earth)+G_force2(sun, earth)) / earth.mass\n",
    "\n",
    "    moon.v += moon.a * dt\n",
    "    moon.pos += moon.v * dt\n",
    "\n",
    "    earth.v += earth.a * dt\n",
    "    earth.pos += earth.v * dt\n",
    "\n",
    "    scene.center = earth.pos"
   ]
  }
 ],
 "metadata": {
  "kernelspec": {
   "display_name": "Python 3",
   "language": "python",
   "name": "python3"
  },
  "language_info": {
   "codemirror_mode": {
    "name": "ipython",
    "version": 3
   },
   "file_extension": ".py",
   "mimetype": "text/x-python",
   "name": "python",
   "nbconvert_exporter": "python",
   "pygments_lexer": "ipython3",
   "version": "3.5.1"
  }
 },
 "nbformat": 4,
 "nbformat_minor": 1
}
