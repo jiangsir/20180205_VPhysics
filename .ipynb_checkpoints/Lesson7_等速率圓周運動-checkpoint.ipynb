{
 "cells": [
  {
   "cell_type": "markdown",
   "metadata": {},
   "source": [
    "## Lesson 7 等速率圓周運動\n",
    "http://drweb.nksh.tp.edu.tw/student/lesson/F07/"
   ]
  },
  {
   "cell_type": "code",
   "execution_count": null,
   "metadata": {
    "collapsed": true
   },
   "outputs": [],
   "source": [
    "# 匯入視覺化套件\n",
    "from vpython import *\n",
    "#  1. 畫面設定\n",
    "# 畫布print('ss')\n",
    "scene = display(center=vector(0, 0.3, 0.2), width=1000, height=1000, background=vector(0.5,0.6,0.5))\n",
    "# 桌面\n",
    "table = cylinder(pos=vector(0,-0.03,0), axis=vector(0,-0.01,0), radius=0.7)\n",
    "# 圓心\n",
    "center = cylinder(pos=vector(0, -0.03, 0), axis =vector(0, 0.03, 0), radius = 0.007)\n",
    "# 球\n",
    "ball = sphere(pos=vector(-0.5,0,0), radius=0.03, color=color.blue)\n",
    "\n",
    "#  2. 設定參數、初始值\n",
    "ball.v = vector(0, 0, 0.5)\n",
    "\n",
    "\n",
    "#r = abs(ball.pos)\n",
    "r = 0.5\n",
    "print(\"速度 = \", ball.v.z)\n",
    "print(\"時間週期 = \", 2*pi*r/ abs(ball.v.z))\n",
    "# 時間間隔\n",
    "dt = 0.001\n",
    "\n",
    "#  3. 運動部分\n",
    "while True:\n",
    "    rate(1000)\n",
    "    # 更新球的資料\n",
    "    ## ball.a = - (abs(ball.v.z)**2 / r) * (ball.pos/r)\n",
    "    ball.a = ball.v/50\n",
    "    ball.v += ball.a*dt\n",
    "    #速度箭頭\n",
    "    v_arrow = arrow(pos = ball.pos, axis=ball.v, shaftwidth=0.1)\n",
    "    a_arrow = arrow(pos = ball.pos, axis=ball.a, shaftwidth=0.1)\n",
    "    ball.pos += ball.v*dt\n",
    "    # 更新速度箭頭資料\n",
    "    v_arrow.pos = ball.pos\n",
    "    v_arrow.axis = ball.v/5\n",
    "    #速度箭頭\n",
    "    v_arrow = arrow(pos = ball.pos, axis=ball.v, shaftwidth=0.1)\n",
    "    a_arrow = arrow(pos = ball.pos, axis=ball.a, shaftwidth=0.1)\n"
   ]
  }
 ],
 "metadata": {
  "kernelspec": {
   "display_name": "Python 3",
   "language": "python",
   "name": "python3"
  },
  "language_info": {
   "codemirror_mode": {
    "name": "ipython",
    "version": 3
   },
   "file_extension": ".py",
   "mimetype": "text/x-python",
   "name": "python",
   "nbconvert_exporter": "python",
   "pygments_lexer": "ipython3",
   "version": "3.5.1"
  }
 },
 "nbformat": 4,
 "nbformat_minor": 1
}
