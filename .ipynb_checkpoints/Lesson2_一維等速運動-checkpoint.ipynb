{
 "cells": [
  {
   "cell_type": "markdown",
   "metadata": {},
   "source": [
    "## Lesson2 一維等速運動\n",
    "http://drweb.nksh.tp.edu.tw/student/lesson/F02/\n"
   ]
  },
  {
   "cell_type": "code",
   "execution_count": null,
   "metadata": {
    "collapsed": true
   },
   "outputs": [],
   "source": [
    "# 匯入視覺化套件\n",
    "from vpython import *\n",
    "\n",
    "#產生一個寬400像素，高400像素的3度空間以進行繪圖\n",
    "scene = display(width=400, height=400,center=(0,0.06,0))\n",
    "#產生一個扁長形方塊，當做是地板\n",
    "floor = box(pos=vector(0,0,0), length=0.3, height=0.005, width=0.1)\n",
    "#產生一個正立方物體\n",
    "cube = box(pos=vector(0, 0.05/2, 0), length=0.05, height=0.05, width=0.05)\n",
    "\n",
    "#----------\n",
    "# 參數設定\n",
    "#----------\n",
    "\n",
    "#速度\n",
    "v = 0.02    #物體速度 = 0.02 (公尺/秒)\n",
    "#時間間隔\n",
    "dt = 0.001  #畫面更新的時間間隔，單位為秒\n",
    "#經過時間\n",
    "t = 0       #模擬所經過的時間，單位為秒，初始值為0\n",
    "\n",
    "#-------------\n",
    "#一維等速運動\n",
    "#-------------\n",
    "while cube.pos.x < 0.1:\n",
    "    rate(1000)\n",
    "    # 位置 = 位置 + 速度 * 時間\n",
    "    cube.pos.x = cube.pos.x + v * dt\n",
    "    t = t + dt\n",
    "\n",
    "print(t)"
   ]
  }
 ],
 "metadata": {
  "kernelspec": {
   "display_name": "Python 3",
   "language": "python",
   "name": "python3"
  },
  "language_info": {
   "codemirror_mode": {
    "name": "ipython",
    "version": 3
   },
   "file_extension": ".py",
   "mimetype": "text/x-python",
   "name": "python",
   "nbconvert_exporter": "python",
   "pygments_lexer": "ipython3",
   "version": "3.5.1"
  }
 },
 "nbformat": 4,
 "nbformat_minor": 1
}
