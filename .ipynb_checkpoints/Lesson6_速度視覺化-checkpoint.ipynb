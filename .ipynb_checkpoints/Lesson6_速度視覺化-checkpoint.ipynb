{
 "cells": [
  {
   "cell_type": "markdown",
   "metadata": {},
   "source": [
    "## Lesson 6 速度視覺化\n",
    "http://drweb.nksh.tp.edu.tw/student/lesson/F06/\n"
   ]
  },
  {
   "cell_type": "code",
   "execution_count": null,
   "metadata": {
    "collapsed": true
   },
   "outputs": [],
   "source": [
    "# 匯入視覺化套件\n",
    "from vpython import *\n",
    "\n",
    "# 1. 參數設定\n",
    "#球的半徑\n",
    "size = 0.2  #球的半徑，單位為公尺\n",
    "#加速度\n",
    "g = vector(0,-9.8,0)    #加速度值,在 x、z 方向為 0,在 y 方向為重力加速度 -9.8 公尺/秒^2\n",
    "#時間間隔\n",
    "dt = 0.001  #畫面更新的時間間隔,單位為秒\n",
    "#經過時間\n",
    "t = 0       #模擬所經過的時間 ,單位為秒,初始值為0\n",
    "\n",
    "# 2. 畫面設定\n",
    "#畫布\n",
    "scene = display(center =vector(15, 5, 0), background=(0.5,0.6, 0.5))\n",
    "#參考地板\n",
    "floor = box(pos=vector(15,-0.05,0), length=30, height=0.1, width=5)\n",
    "#球\n",
    "ball = sphere(pos=vector(0, 0, 0), radius=size, color=color.blue, make_trail= True)\n",
    "\n",
    "\n",
    "# 3.初始條件\n",
    "ball.v = vector(5, 10, 0)\n",
    "\n",
    "#速度箭頭\n",
    "v_arrow = arrow(pos = ball.pos, axis=ball.v, shaftwidth=0.1)\n",
    "\n",
    "# 4. 描述物體的運動\n",
    "\n",
    "while t < 5:\n",
    "    rate(1000)\n",
    "    # 速度 = 速度 + 加速度 * 時間間隔\n",
    "    ball.v = ball.v + g * dt\n",
    "    # 位置 = 位置 + 速度 * 時間間隔\n",
    "    ball.pos = ball.pos + ball.v * dt\n",
    "    # 更新速度箭頭資料\n",
    "    v_arrow.pos = ball.pos\n",
    "    v_arrow.axis = ball.v/5x`\n",
    "    # 判斷球是否碰到地面\n",
    "    if ball.pos.y <= size and ball.v.y < 0:\n",
    "        print('ball.v.y=', ball.v.y)\n",
    "        ball.v.y = abs(ball.v.y) * 0.9\n",
    "\n",
    "    #計算時間\n",
    "    t = t + dt\n",
    "print(t)"
   ]
  }
 ],
 "metadata": {
  "kernelspec": {
   "display_name": "Python 3",
   "language": "python",
   "name": "python3"
  },
  "language_info": {
   "codemirror_mode": {
    "name": "ipython",
    "version": 3
   },
   "file_extension": ".py",
   "mimetype": "text/x-python",
   "name": "python",
   "nbconvert_exporter": "python",
   "pygments_lexer": "ipython3",
   "version": "3.5.1"
  }
 },
 "nbformat": 4,
 "nbformat_minor": 1
}
