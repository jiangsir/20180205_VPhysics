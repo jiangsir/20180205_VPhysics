{
 "cells": [
  {
   "cell_type": "markdown",
   "metadata": {},
   "source": [
    "## Lesson 4 拋物線\n",
    "http://drweb.nksh.tp.edu.tw/student/lesson/F04/"
   ]
  },
  {
   "cell_type": "code",
   "execution_count": null,
   "metadata": {
    "collapsed": true
   },
   "outputs": [],
   "source": [
    "# 匯入視覺化套件\n",
    "from vpython import *\n",
    "\n",
    "# 1. 參數設定\n",
    "#加速度\n",
    "a = -9.8    #加速度值,在 x、z 方向為 0,在 y 方向為 g=-9.8 公尺/秒^2\n",
    "#速度\n",
    "vx = 5      #球的 x 方向速度(公尺/秒)\n",
    "vy = 0      #球的 y 方向速度(公尺/秒)\n",
    "#高度\n",
    "h = 10.0    #球的初始高度，單位為公尺\n",
    "#時間間隔\n",
    "dt = 0.001  #畫面更新的時間間隔,單位為秒\n",
    "#經過時間\n",
    "t = 0       #模擬所經過的時間 ,單位為秒,初始值為0\n",
    "\n",
    "# 2. 畫面設定\n",
    "#畫布\n",
    "scene = display(center = vector(0, h/2, 0), background=vector(0.5,0.6, 0))\n",
    "#參考地板\n",
    "floor = box(pos=vector(0,0,0), length=15, height=0.01, width=5)\n",
    "#牆\n",
    "wall_right = box(pos=vector(floor.length/2,h/2,0), length=0.01, height=h, width=5)\n",
    "wall_left = box(pos=vector(-floor.length/2,h/2,0), length=0.01, height=h, width=5)\n",
    "\n",
    "#球\n",
    "ball = sphere(pos =vector(0, h , 0), radius=0.2, color=color.blue, make_trail= True)\n",
    "\n",
    "# 3. 描述物體的運動\n",
    "\n",
    "touch = 20\n",
    "while touch>0:\n",
    "    rate(1000)\n",
    "    # 速度 = 速度 + 加速度 * 時間間隔\n",
    "    vy = vy + a * dt\n",
    "    # 位置 = 位置 + 速度 * 時間間隔\n",
    "    ball.pos.x = ball.pos.x + vx * dt\n",
    "    ball.pos.y = ball.pos.y + vy * dt\n",
    "    # 判斷球是否碰到地面\n",
    "    if ball.pos.y <= 0.2 and vy < 0:\n",
    "        print('vy=', vy, 'ball.pos.y=', ball.pos.y)\n",
    "        vy = abs(vy) * 0.9\n",
    "        touch = touch - 1\n",
    "\n",
    "    if abs(ball.pos.x) >= floor.length/2:\n",
    "        vx = -vx\n",
    "        touch = touch - 1\n"
   ]
  }
 ],
 "metadata": {
  "kernelspec": {
   "display_name": "Python 3",
   "language": "python",
   "name": "python3"
  },
  "language_info": {
   "codemirror_mode": {
    "name": "ipython",
    "version": 3
   },
   "file_extension": ".py",
   "mimetype": "text/x-python",
   "name": "python",
   "nbconvert_exporter": "python",
   "pygments_lexer": "ipython3",
   "version": "3.5.1"
  }
 },
 "nbformat": 4,
 "nbformat_minor": 1
}
